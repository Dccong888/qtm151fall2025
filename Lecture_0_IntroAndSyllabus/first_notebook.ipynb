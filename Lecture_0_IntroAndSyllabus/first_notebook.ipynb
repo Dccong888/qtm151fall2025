{
 "cells": [
  {
   "cell_type": "code",
   "execution_count": 2,
   "id": "30c5b068",
   "metadata": {},
   "outputs": [
    {
     "name": "stdout",
     "output_type": "stream",
     "text": [
      "My name is Joseph Yan\n"
     ]
    }
   ],
   "source": [
    "print('My name is Joseph Yan')"
   ]
  },
  {
   "cell_type": "markdown",
   "id": "6b2ed0a3",
   "metadata": {},
   "source": [
    "<font size = '5'>This is my first notebook"
   ]
  }
 ],
 "metadata": {
  "kernelspec": {
   "display_name": "base",
   "language": "python",
   "name": "python3"
  },
  "language_info": {
   "codemirror_mode": {
    "name": "ipython",
    "version": 3
   },
   "file_extension": ".py",
   "mimetype": "text/x-python",
   "name": "python",
   "nbconvert_exporter": "python",
   "pygments_lexer": "ipython3",
   "version": "3.12.7"
  }
 },
 "nbformat": 4,
 "nbformat_minor": 5
}
